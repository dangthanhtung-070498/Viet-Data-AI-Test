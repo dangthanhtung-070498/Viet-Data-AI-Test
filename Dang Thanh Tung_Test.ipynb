{
 "cells": [
  {
   "cell_type": "code",
   "execution_count": 1,
   "metadata": {},
   "outputs": [],
   "source": [
    "import pandas as pd\n",
    "import matplotlib.pyplot as plt\n",
    "import seaborn as sns"
   ]
  },
  {
   "cell_type": "code",
   "execution_count": 2,
   "metadata": {},
   "outputs": [
    {
     "name": "stdout",
     "output_type": "stream",
     "text": [
      "Minimum number of rolls to reach 95% probability: 164\n",
      "Average cost per game: $29764951.89\n"
     ]
    }
   ],
   "source": [
    "# 1/. How many dice tosses do you need to get to 95% win confidence?\n",
    "\n",
    "import random\n",
    "\n",
    "def simulate_game(num_rolls):\n",
    "  rolls = 0\n",
    "  consecutive_ones = 0\n",
    "  cost = 0\n",
    "\n",
    "  while rolls < num_rolls:\n",
    "    roll = random.randint(1, 6)\n",
    "    rolls += 1\n",
    "\n",
    "    if roll == 1:\n",
    "      consecutive_ones += 1\n",
    "      if consecutive_ones == 3:\n",
    "        return cost\n",
    "    else:\n",
    "      if consecutive_ones == 1:\n",
    "        cost += 7800\n",
    "      elif consecutive_ones == 2:\n",
    "        cost += 49500\n",
    "      consecutive_ones = 0\n",
    "      cost += 1000\n",
    "\n",
    "  return cost\n",
    "\n",
    "def find_min_rolls(target_probability):\n",
    "  num_rolls = 1\n",
    "  successes = 0\n",
    "  total_cost = 0\n",
    "\n",
    "  while True:\n",
    "    for _ in range(10000):  # Adjust the number of simulations as needed\n",
    "      cost = simulate_game(num_rolls)\n",
    "      total_cost += cost\n",
    "      if cost == 0:\n",
    "        successes += 1\n",
    "\n",
    "    probability = successes / 10000\n",
    "    if probability >= target_probability:\n",
    "      break\n",
    "    num_rolls += 1\n",
    "\n",
    "  return num_rolls, total_cost / 10000\n",
    "\n",
    "target_probability = 0.95\n",
    "min_rolls, avg_cost = find_min_rolls(target_probability)\n",
    "\n",
    "print(f\"Minimum number of rolls to reach 95% probability: {min_rolls}\")\n",
    "print(f\"Average cost per game: ${avg_cost:.2f}\")"
   ]
  },
  {
   "cell_type": "code",
   "execution_count": 3,
   "metadata": {},
   "outputs": [
    {
     "name": "stdout",
     "output_type": "stream",
     "text": [
      "Average net gain per toss: $-11694.16\n"
     ]
    }
   ],
   "source": [
    "# 2/. Calculate your net gain/loss per toss.\n",
    "\n",
    "import random\n",
    "\n",
    "def simulate_game():\n",
    "    rolls = 0\n",
    "    total_cost = 0\n",
    "    while True:\n",
    "        roll = random.randint(1, 6)\n",
    "        rolls += 1\n",
    "        if roll == 1:\n",
    "            continue  # Keep rolling for three consecutive 1s\n",
    "        elif roll != 1 and rolls == 1:\n",
    "            total_cost += 1000\n",
    "        elif roll != 1 and rolls == 2:\n",
    "            total_cost += 7800\n",
    "        elif roll != 1 and rolls == 3:\n",
    "            total_cost += 49500\n",
    "            break  # Stop if three consecutive non-1s\n",
    "        else:\n",
    "            break  # Stop if three consecutive 1s are not achieved\n",
    "\n",
    "    if rolls == 3:\n",
    "        total_cost -= 100000  # Win $100,000\n",
    "\n",
    "    return total_cost / rolls\n",
    "\n",
    "def calculate_average_net_gain(num_simulations):\n",
    "    total_net_gain = 0\n",
    "    for _ in range(num_simulations):\n",
    "        total_net_gain += simulate_game()\n",
    "    return total_net_gain / num_simulations\n",
    "\n",
    "# Set the number of simulations\n",
    "num_simulations = 100000\n",
    "\n",
    "average_net_gain = calculate_average_net_gain(num_simulations)\n",
    "print(f\"Average net gain per toss: ${average_net_gain:.2f}\")"
   ]
  },
  {
   "cell_type": "code",
   "execution_count": 4,
   "metadata": {},
   "outputs": [
    {
     "name": "stdout",
     "output_type": "stream",
     "text": [
      "Expected value of the game: $-7182.87\n"
     ]
    }
   ],
   "source": [
    "# 3/. What is the minimum amount of prize money you will \n",
    "# consider playing this game for? \n",
    "# Calculate your relevant premium in this case.\n",
    "\n",
    "def calculate_expected_value():\n",
    "    # Probabilities of different scenarios\n",
    "    p_win = (1/6) ** 3  # Probability of three consecutive 1s\n",
    "    p_loss_1 = 5/6  # Probability of a single failed roll\n",
    "    p_loss_2 = (5/6) * (1/6)  # Probability of a failed roll followed by a successful roll\n",
    "    p_loss_3 = (5/6) ** 2 * (1/6)  # Probability of two failed rolls followed by a successful roll\n",
    "\n",
    "    # Expected value calculation\n",
    "    expected_value = 100000 * p_win - 1000 * p_loss_1 - 7800 * p_loss_2 - 49500 * p_loss_3\n",
    "\n",
    "    return expected_value\n",
    "\n",
    "expected_value = calculate_expected_value()\n",
    "print(f\"Expected value of the game: ${expected_value:.2f}\")"
   ]
  },
  {
   "cell_type": "code",
   "execution_count": 5,
   "metadata": {},
   "outputs": [
    {
     "name": "stdout",
     "output_type": "stream",
     "text": [
      "Average net gain per toss for conservative strategy: $-784.67\n",
      "Average net gain per toss for moderate strategy: $-4631.00\n",
      "Average net gain per toss for aggressive strategy: $-4620.33\n"
     ]
    }
   ],
   "source": [
    "# 4/. Please rationalise the most efficient strategy \n",
    "# to maximise gain/minimise loss with 4 players \n",
    "# playing this game simultaneously.\n",
    "\n",
    "import random\n",
    "\n",
    "def simulate_game(strategy):\n",
    "    rolls = 0\n",
    "    total_cost = 0\n",
    "    while True:\n",
    "        roll = random.randint(1, 6)\n",
    "        rolls += 1\n",
    "        if roll == 1:\n",
    "            continue\n",
    "        elif roll != 1 and rolls == 1 and strategy == \"aggressive\":\n",
    "            continue  # Continue after one failed roll\n",
    "        elif roll != 1 and rolls == 2 and strategy == \"moderate\":\n",
    "            continue  # Continue after two failed rolls\n",
    "        else:\n",
    "            break  # Stop playing\n",
    "\n",
    "    if rolls == 3:\n",
    "        total_cost -= 100000  # Win $100,000\n",
    "\n",
    "    return total_cost / rolls\n",
    "\n",
    "def simulate_multiple_games(num_simulations, strategy):\n",
    "    total_net_gain = 0\n",
    "    for _ in range(num_simulations):\n",
    "        total_net_gain += simulate_game(strategy)\n",
    "    return total_net_gain / num_simulations\n",
    "\n",
    "# Define strategies\n",
    "strategies = [\"conservative\", \"moderate\", \"aggressive\"]\n",
    "\n",
    "for strategy in strategies:\n",
    "    num_simulations = 100000\n",
    "    average_net_gain = simulate_multiple_games(num_simulations, strategy)\n",
    "    print(f\"Average net gain per toss for {strategy} strategy: ${average_net_gain:.2f}\")"
   ]
  },
  {
   "cell_type": "code",
   "execution_count": 6,
   "metadata": {},
   "outputs": [
    {
     "name": "stdout",
     "output_type": "stream",
     "text": [
      "Average number of rolls to win with 95% confidence: 1.09\n"
     ]
    }
   ],
   "source": [
    "# 5.1/. How many dice tosses do you need to get to 95% win confidence?\n",
    "\n",
    "import random\n",
    "\n",
    "def simulate_game():\n",
    "    rolls = 0\n",
    "    while True:\n",
    "        dice1 = random.randint(1, 6)\n",
    "        dice2 = random.randint(1, 6)\n",
    "        roll = dice1 * 10 + dice2\n",
    "        rolls += 1\n",
    "        if roll in [11, 16, 66]:\n",
    "            continue  # Keep rolling for three consecutive winning rolls\n",
    "        else:\n",
    "            break  # Stop if a non-winning roll is encountered\n",
    "\n",
    "    return rolls\n",
    "\n",
    "def calculate_average_rolls(num_simulations):\n",
    "    total_rolls = 0\n",
    "    for _ in range(num_simulations):\n",
    "        total_rolls += simulate_game()\n",
    "    return total_rolls / num_simulations\n",
    "\n",
    "# Set the desired confidence level\n",
    "confidence_level = 0.95\n",
    "\n",
    "# Run the simulation many times to get a reliable estimate\n",
    "num_simulations = 100000\n",
    "average_rolls = calculate_average_rolls(num_simulations)\n",
    "\n",
    "print(f\"Average number of rolls to win with 95% confidence: {average_rolls:.2f}\")"
   ]
  },
  {
   "cell_type": "code",
   "execution_count": 7,
   "metadata": {},
   "outputs": [
    {
     "name": "stdout",
     "output_type": "stream",
     "text": [
      "Average net gain per toss: $-898297.38\n"
     ]
    }
   ],
   "source": [
    "# 5.2/. Calculate your net gain/loss per toss.\n",
    "\n",
    "import random\n",
    "\n",
    "def simulate_game():\n",
    "    rolls = 0\n",
    "    total_cost = 0\n",
    "    while True:\n",
    "        dice1 = random.randint(1, 6)\n",
    "        dice2 = random.randint(1, 6)\n",
    "        roll = dice1 * 10 + dice2\n",
    "        rolls += 1\n",
    "        if roll in [11, 16, 66]:\n",
    "            continue  # Keep rolling for three consecutive winning rolls\n",
    "        elif roll != 11 and roll != 16 and roll != 66 and rolls == 1:\n",
    "            total_cost += 1000\n",
    "        elif roll != 11 and roll != 16 and roll != 66 and rolls == 2:\n",
    "            total_cost += 7800\n",
    "        elif roll != 11 and roll != 16 and roll != 66 and rolls == 3:\n",
    "            total_cost += 49500\n",
    "            break  # Stop if three consecutive non-winning rolls\n",
    "        else:\n",
    "            break  # Stop if three consecutive winning rolls\n",
    "\n",
    "    if rolls == 3:\n",
    "        total_cost -= 3000000  # Win $3,000,000\n",
    "\n",
    "    return total_cost / rolls\n",
    "\n",
    "def calculate_average_net_gain(num_simulations):\n",
    "    total_net_gain = 0\n",
    "    for _ in range(num_simulations):\n",
    "        total_net_gain += simulate_game()\n",
    "    return total_net_gain / num_simulations\n",
    "\n",
    "# Set the number of simulations\n",
    "num_simulations = 100000\n",
    "\n",
    "average_net_gain = calculate_average_net_gain(num_simulations)\n",
    "print(f\"Average net gain per toss: ${average_net_gain:.2f}\")"
   ]
  },
  {
   "cell_type": "code",
   "execution_count": 8,
   "metadata": {},
   "outputs": [
    {
     "name": "stdout",
     "output_type": "stream",
     "text": [
      "Expected value of the game: $-3692.00\n"
     ]
    }
   ],
   "source": [
    "# 5.3/. What is the minimum amount of prize money \n",
    "# you will consider playing this game for? \n",
    "# Calculate your relevant premium in this case.\n",
    "\n",
    "def calculate_expected_value():\n",
    "    # Probabilities of different scenarios\n",
    "    p_win = (3/36)**3  # Probability of three consecutive winning rolls\n",
    "    p_loss_1 = 1 - p_win  # Probability of a single failed roll\n",
    "    p_loss_2 = (1 - p_win) * (3/36)  # Probability of a failed roll followed by a successful roll\n",
    "    p_loss_3 = (1 - p_win) * (1 - (3/36)) * (3/36)  # Probability of two failed rolls followed by a successful roll\n",
    "\n",
    "    # Expected value calculation\n",
    "    expected_value = 3000000 * p_win - 1000 * p_loss_1 - 7800 * p_loss_2 - 49500 * p_loss_3\n",
    "\n",
    "    return expected_value\n",
    "\n",
    "expected_value = calculate_expected_value()\n",
    "print(f\"Expected value of the game: ${expected_value:.2f}\")"
   ]
  },
  {
   "cell_type": "code",
   "execution_count": 9,
   "metadata": {},
   "outputs": [
    {
     "name": "stdout",
     "output_type": "stream",
     "text": [
      "Average net gain per toss for conservative strategy: $-6290.00\n",
      "Average net gain per toss for aggressive strategy: $-75410.00\n"
     ]
    }
   ],
   "source": [
    "# 5.4/. Please rationalise the most efficient strategy \n",
    "# to maximise gain/minimise loss with \n",
    "# 4 players playing this game simultaneously.\n",
    "\n",
    "import random\n",
    "\n",
    "def simulate_game(strategy):\n",
    "    rolls = 0\n",
    "    total_cost = 0\n",
    "    while True:\n",
    "        dice1 = random.randint(1, 6)\n",
    "        dice2 = random.randint(1, 6)\n",
    "        roll = dice1 * 10 + dice2\n",
    "        rolls += 1\n",
    "        if roll in [11, 16, 66]:\n",
    "            continue  # Keep rolling for three consecutive winning rolls\n",
    "        elif roll != 11 and roll != 16 and roll != 66 and rolls == 1 and strategy == \"aggressive\":\n",
    "            continue  # Continue after one failed roll\n",
    "        elif roll != 11 and roll != 16 and roll != 66 and rolls == 2:\n",
    "            break  # Stop after two failed rolls\n",
    "\n",
    "        else:\n",
    "            break  # Stop if three consecutive non-winning rolls\n",
    "\n",
    "    if rolls == 3:\n",
    "        total_cost -= 3000000  # Win $3,000,000\n",
    "\n",
    "    return total_cost / rolls\n",
    "\n",
    "def simulate_multiple_games(num_simulations, strategy):\n",
    "    total_net_gain = 0\n",
    "    for _ in range(num_simulations):\n",
    "        total_net_gain += simulate_game(strategy)\n",
    "    return total_net_gain / num_simulations\n",
    "\n",
    "# Define strategies\n",
    "strategies = [\"conservative\", \"aggressive\"]\n",
    "\n",
    "for strategy in strategies:\n",
    "    num_simulations = 100000\n",
    "    average_net_gain = simulate_multiple_games(num_simulations, strategy)\n",
    "    print(f\"Average net gain per toss for {strategy} strategy: ${average_net_gain:.2f}\")"
   ]
  },
  {
   "cell_type": "code",
   "execution_count": 10,
   "metadata": {},
   "outputs": [
    {
     "name": "stdout",
     "output_type": "stream",
     "text": [
      "Expected value before payment: $-3692.00\n",
      "Expected value after payment: $-500000.00\n"
     ]
    }
   ],
   "source": [
    "# 5.5/. However, there is an additional catch: \n",
    "# upon the 3rd toss to reach 3 times in a row (right before winning), \n",
    "# you can pay US$ 1,000,000 to destroy one die forever \n",
    "# and win by tossing “1”. Will you pay, and why?\n",
    "\n",
    "import math\n",
    "\n",
    "def calculate_expected_value_before_payment():\n",
    "    win_probability = (3/36)**3\n",
    "    loss_1_probability = 1 - win_probability\n",
    "    loss_2_probability = (1 - win_probability) * (3/36)\n",
    "    loss_3_probability = (1 - win_probability) * (1 - 3/36) * (3/36)\n",
    "\n",
    "    expected_value = 3000000 * win_probability - 1000 * loss_1_probability - 7800 * loss_2_probability - 49500 * loss_3_probability\n",
    "    return expected_value\n",
    "\n",
    "def calculate_expected_value_after_payment():\n",
    "    win_probability = 1/6\n",
    "    expected_value = 3000000 * win_probability - 1000000\n",
    "    return expected_value\n",
    "\n",
    "expected_value_before = calculate_expected_value_before_payment()\n",
    "expected_value_after = calculate_expected_value_after_payment()\n",
    "\n",
    "print(f\"Expected value before payment: ${expected_value_before:.2f}\")\n",
    "print(f\"Expected value after payment: ${expected_value_after:.2f}\")"
   ]
  }
 ],
 "metadata": {
  "kernelspec": {
   "display_name": ".venv",
   "language": "python",
   "name": "python3"
  },
  "language_info": {
   "codemirror_mode": {
    "name": "ipython",
    "version": 3
   },
   "file_extension": ".py",
   "mimetype": "text/x-python",
   "name": "python",
   "nbconvert_exporter": "python",
   "pygments_lexer": "ipython3",
   "version": "3.12.4"
  }
 },
 "nbformat": 4,
 "nbformat_minor": 2
}
